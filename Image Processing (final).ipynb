{
 "cells": [
  {
   "cell_type": "code",
   "execution_count": 49,
   "id": "fb94585b-7466-429f-a98e-98a1c5b75830",
   "metadata": {},
   "outputs": [],
   "source": [
    "# packages\n",
    "from PIL import Image\n",
    "import numpy as np\n",
    "import matplotlib.pyplot as plt\n",
    "import matplotlib\n",
    "import os, os.path\n",
    "import matplotlib.patches as patches\n",
    "%matplotlib tk"
   ]
  },
  {
   "cell_type": "code",
   "execution_count": 51,
   "id": "934a1db0-b074-44ba-93c5-e4b477c62844",
   "metadata": {},
   "outputs": [],
   "source": [
    "# find the max brightness values indices if repeats\n",
    "def indices(lst, item):\n",
    "    return [i for i, x in enumerate(lst) if x == item]"
   ]
  },
  {
   "cell_type": "code",
   "execution_count": 122,
   "id": "10d281ec-842b-4f74-9d9b-645ae2def579",
   "metadata": {},
   "outputs": [],
   "source": [
    "# function for determining star brightness over time\n",
    "def brightness_fun(coords, imgs):\n",
    "    # define rounded coordinates\n",
    "    rounded_coords = (round(coords[0]),round(coords[1]))\n",
    "\n",
    "    # create star_brightness list\n",
    "    star_bright = []\n",
    "\n",
    "    # LOOP over all images\n",
    "    for i in range(0,len(imgs)):\n",
    "\n",
    "        # find the brightness values in the area\n",
    "        coord_brightness = []\n",
    "        brightness = []\n",
    "        big_square = 10\n",
    "        for j in range(-big_square,big_square):\n",
    "            for k in range(-big_square,big_square):\n",
    "                coord_brightness.append([(rounded_coords[0]+k, rounded_coords[1]+j), np.array(imgs[i])[rounded_coords[1]+j][rounded_coords[0]+k]])\n",
    "                brightness.append(np.array(imgs[i])[rounded_coords[1]+j][rounded_coords[0]+k])\n",
    "\n",
    "        # find the maximum brightness\n",
    "        max_brightness = max(coord_brightness, key=lambda v: v[1])\n",
    "    \n",
    "        # define new coordinate reference point for next image\n",
    "        rounded_coords = max_brightness[0]\n",
    "\n",
    "        # find corners of star\n",
    "        x_coord = []\n",
    "        y_coord = []\n",
    "        for j in indices(brightness, max_brightness[1]):\n",
    "            x_coord.append(coord_brightness[j][0][1])\n",
    "            y_coord.append(coord_brightness[j][0][0])\n",
    "        star_corners = [(min(x_coord),min(y_coord)), (max(x_coord),max(y_coord))]\n",
    "    \n",
    "        # define small square around star\n",
    "        small_r = 3\n",
    "        small_square = [(star_corners[0][0]-small_r,star_corners[0][1]-small_r), (star_corners[1][0]+small_r,star_corners[1][1]+small_r)]\n",
    "\n",
    "        # make list of all brightness values in the small square\n",
    "        small_square_brightness = []\n",
    "        for j in range(small_square[0][0],small_square[1][0]+1):\n",
    "            for k in range(small_square[0][1],small_square[1][1]+1):\n",
    "                small_square_brightness.append([(k,j), np.array(imgs[i])[j][k]])\n",
    "\n",
    "        # average the brightness values over the small square\n",
    "        cum_bright = 0\n",
    "        for j in range(0,len(small_square_brightness)):\n",
    "            cum_bright += small_square_brightness[j][1]\n",
    "\n",
    "        # make a list of average brightness values for the star over time\n",
    "        avg_bright = cum_bright/(len(small_square_brightness)+1)\n",
    "        star_bright.append(avg_bright)       \n",
    "\n",
    "    # return the list of average brightness values for the star over time\n",
    "    return star_bright"
   ]
  },
  {
   "cell_type": "code",
   "execution_count": 288,
   "id": "7550162b-4233-4866-8b2a-61fe5bb0cff9",
   "metadata": {},
   "outputs": [],
   "source": [
    "# create a list of images in the folder\n",
    "imgs = []\n",
    "path = \"star-images\"\n",
    "\n",
    "# unpack them in order\n",
    "for i in range(0,len(os.listdir(path))-1):\n",
    "    filename = 'image-' + str(i) + '.jpg'\n",
    "    full_path = os.path.join(path, filename)\n",
    "\n",
    "    imgs.append(Image.open(full_path).convert('L'))"
   ]
  },
  {
   "cell_type": "code",
   "execution_count": 290,
   "id": "1e11d606-24fb-403a-bdf7-ac9d7cb1b105",
   "metadata": {},
   "outputs": [],
   "source": [
    "# select stars (transit star then reference star)\n",
    "plt.imshow(imgs[0])\n",
    "click_coords = plt.ginput(2)\n",
    "plt.close() \n",
    "\n",
    "# generate and label brightness lists for both stars\n",
    "transit_star = brightness_fun(click_coords[0], imgs)\n",
    "reference_star = brightness_fun(click_coords[1], imgs)\n",
    "\n",
    "# define scaled brightness array\n",
    "scaled_transit = []\n",
    "for i in range(0,len(transit_star)):\n",
    "    scaled_transit.append(100*(transit_star[i])/reference_star[i])"
   ]
  },
  {
   "cell_type": "code",
   "execution_count": 292,
   "id": "06dcef32-c8b9-43ea-a366-9514c59523b9",
   "metadata": {},
   "outputs": [],
   "source": [
    "# set up plot\n",
    "fig, axs = plt.subplots(1,2,layout='constrained',figsize=(9,3.15))\n",
    "\n",
    "# create x_pts\n",
    "x_pts = np.linspace(-0.75,0.75,len(scaled_transit))\n",
    "\n",
    "#plot top graph\n",
    "axs[0].plot(x_pts, transit_star, label='Transit Star')\n",
    "axs[0].plot(x_pts, reference_star, label='Reference Star')\n",
    "axs[0].set_ylim(100)\n",
    "axs[0].legend()\n",
    "axs[0].set_ylabel('Stellar Brightness [mean pixel value]')\n",
    "axs[0].set_xlabel('Normalised Transit Duration')\n",
    "\n",
    "#plot bottom graph\n",
    "axs[1].plot(x_pts, scaled_transit, 'o')\n",
    "axs[1].set_ylabel('Normalised Stellar Brightness [%]')\n",
    "axs[1].set_xlabel('Normalised Transit Duration')\n",
    "\n",
    "plt.show()"
   ]
  }
 ],
 "metadata": {
  "kernelspec": {
   "display_name": "Python [conda env:base] *",
   "language": "python",
   "name": "conda-base-py"
  },
  "language_info": {
   "codemirror_mode": {
    "name": "ipython",
    "version": 3
   },
   "file_extension": ".py",
   "mimetype": "text/x-python",
   "name": "python",
   "nbconvert_exporter": "python",
   "pygments_lexer": "ipython3",
   "version": "3.9.21"
  }
 },
 "nbformat": 4,
 "nbformat_minor": 5
}
